{
 "cells": [
  {
   "cell_type": "code",
   "execution_count": 22,
   "metadata": {},
   "outputs": [],
   "source": [
    "from random import shuffle, sample\n",
    "from itertools import combinations\n",
    "\n",
    "def make_ordering(n):\n",
    "    \"\"\"Generates a random ordering of n wizards, returned as a\n",
    "    shuffled list containing the elements 0, 1, ..., n-1\"\"\"\n",
    "    order = list(range(n))\n",
    "    shuffle(order)\n",
    "    return order\n",
    "\n",
    "def make_constraints(order, num_constraints=500):\n",
    "    \"\"\"Randomly generates constraints on the wizards' ordering,\n",
    "    where a constraint [a b c] means c is not between a and b.\"\"\"\n",
    "    combos = list(combinations(order, 3))\n",
    "    return sample(combos, num_constraints)"
   ]
  },
  {
   "cell_type": "code",
   "execution_count": 33,
   "metadata": {},
   "outputs": [
    {
     "name": "stdout",
     "output_type": "stream",
     "text": [
      "[6, 9, 4, 1, 5, 7, 0, 2, 3, 8]\n",
      "[(9, 4, 2), (9, 3, 8), (1, 7, 0), (1, 0, 2), (0, 2, 8), (6, 9, 8), (6, 4, 7), (6, 4, 1), (6, 5, 0), (4, 0, 8), (6, 9, 0), (4, 0, 3), (6, 5, 7), (6, 2, 8), (6, 4, 8), (5, 7, 0), (9, 5, 7), (5, 3, 8), (4, 1, 7), (1, 7, 8), (1, 5, 3), (1, 2, 3), (5, 2, 3), (4, 7, 2), (4, 5, 8), (7, 0, 3), (6, 9, 2), (4, 5, 3), (6, 1, 2), (9, 1, 3), (9, 0, 3), (6, 9, 4), (4, 1, 3), (9, 1, 7), (6, 9, 5), (9, 0, 8), (5, 2, 8), (4, 1, 5), (6, 9, 1), (0, 3, 8), (6, 0, 8), (9, 4, 1), (9, 7, 8), (9, 1, 8), (9, 7, 3), (7, 0, 8), (7, 2, 8), (9, 4, 0), (6, 7, 0), (6, 4, 3), (6, 1, 5), (5, 0, 2), (4, 2, 3), (9, 4, 8), (5, 7, 3), (4, 2, 8), (9, 5, 0), (6, 1, 8), (4, 5, 0), (9, 7, 2), (7, 3, 8), (1, 5, 0), (6, 2, 3), (6, 4, 0), (4, 1, 8), (2, 3, 8), (5, 0, 3), (1, 7, 3), (4, 7, 0), (4, 5, 7), (9, 1, 5), (9, 4, 7), (4, 1, 0), (4, 7, 3), (6, 4, 5), (6, 4, 2), (9, 0, 2), (6, 7, 8), (6, 5, 8), (9, 5, 8), (6, 0, 3), (0, 2, 3), (6, 3, 8), (4, 3, 8), (1, 2, 8), (4, 1, 2), (6, 9, 7), (9, 5, 2), (9, 1, 0), (4, 5, 2), (4, 7, 8), (9, 2, 8), (9, 4, 5), (1, 0, 8), (6, 5, 2), (9, 4, 3), (7, 0, 2), (9, 7, 0), (6, 7, 2), (9, 1, 2)]\n"
     ]
    }
   ],
   "source": [
    "order = make_ordering(10)\n",
    "\n",
    "combo = make_constraints(order, 100)\n",
    "\n",
    "print(order)\n",
    "print(combo)"
   ]
  }
 ],
 "metadata": {
  "kernelspec": {
   "display_name": "Python 3",
   "language": "python",
   "name": "python3"
  },
  "language_info": {
   "codemirror_mode": {
    "name": "ipython",
    "version": 3
   },
   "file_extension": ".py",
   "mimetype": "text/x-python",
   "name": "python",
   "nbconvert_exporter": "python",
   "pygments_lexer": "ipython3",
   "version": "3.5.2"
  }
 },
 "nbformat": 4,
 "nbformat_minor": 2
}
