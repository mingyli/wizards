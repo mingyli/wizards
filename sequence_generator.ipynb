{
 "cells": [
  {
   "cell_type": "code",
   "execution_count": 49,
   "metadata": {},
   "outputs": [],
   "source": [
    "import matplotlib.pyplot as plt\n",
    "\n",
    "from random import shuffle, sample\n",
    "from itertools import combinations\n",
    "\n",
    "def make_ordering(n):\n",
    "    \"\"\"Generates a random ordering of n wizards, returned as a\n",
    "    shuffled list containing the elements 0, 1, ..., n-1\"\"\"\n",
    "    order = list(range(n))\n",
    "    shuffle(order)\n",
    "    return order\n",
    "\n",
    "def make_constraints(order, num_constraints=1e7):\n",
    "    \"\"\"Randomly generates constraints on the wizards' ordering,\n",
    "    where a constraint [a b c] means c is not between a and b.\"\"\"\n",
    "    combos = []\n",
    "    \n",
    "    for i in range(len(order)):\n",
    "        for j in range(i + 1, len(order)):\n",
    "            for k in range(0, i):\n",
    "                combos.append((order[i], order[j], order[k]))\n",
    "            for k in range(j + 1, len(order)):\n",
    "                combos.append((order[i], order[j], order[k]))\n",
    "    return combos"
   ]
  },
  {
   "cell_type": "code",
   "execution_count": 60,
   "metadata": {},
   "outputs": [
    {
     "name": "stdout",
     "output_type": "stream",
     "text": [
      "[3, 11, 9, 8, 4, 1, 5, 10, 0, 2, 7, 6]\n",
      "440\n",
      "1 0\n",
      "2 0\n",
      "3 2\n",
      "4 8\n",
      "5 20\n",
      "6 40\n",
      "7 70\n",
      "8 112\n",
      "9 168\n",
      "10 240\n",
      "11 330\n",
      "12 440\n",
      "13 572\n",
      "14 728\n",
      "15 910\n",
      "16 1120\n",
      "17 1360\n",
      "18 1632\n",
      "19 1938\n",
      "20 2280\n",
      "21 2660\n",
      "22 3080\n",
      "23 3542\n",
      "24 4048\n",
      "25 4600\n",
      "26 5200\n",
      "27 5850\n",
      "28 6552\n",
      "29 7308\n",
      "30 8120\n",
      "31 8990\n",
      "32 9920\n",
      "33 10912\n",
      "34 11968\n",
      "35 13090\n",
      "36 14280\n",
      "37 15540\n",
      "38 16872\n",
      "39 18278\n",
      "40 19760\n",
      "41 21320\n",
      "42 22960\n",
      "43 24682\n",
      "44 26488\n",
      "45 28380\n",
      "46 30360\n",
      "47 32430\n",
      "48 34592\n",
      "49 36848\n",
      "50 39200\n"
     ]
    },
    {
     "data": {
      "image/png": "[encoded data removed]",
      "text/plain": [
       "<matplotlib.figure.Figure at 0x7f4d8fe4b2b0>"
      ]
     },
     "metadata": {},
     "output_type": "display_data"
    }
   ],
   "source": [
    "order = make_ordering(12)\n",
    "\n",
    "combos = make_constraints(order, 100)\n",
    "\n",
    "print(order)\n",
    "print(len(combos))\n",
    "\n",
    "lens = []\n",
    "\n",
    "for i in range(1,51):\n",
    "    order = make_ordering(i)\n",
    "    combos = make_constraints(order)\n",
    "    lens.append(len(combos))\n",
    "    print(i, len(combos))\n",
    "\n",
    "plt.plot(lens)\n",
    "plt.show()"
   ]
  }
 ],
 "metadata": {
  "kernelspec": {
   "display_name": "Python 3",
   "language": "python",
   "name": "python3"
  },
  "language_info": {
   "codemirror_mode": {
    "name": "ipython",
    "version": 3
   },
   "file_extension": ".py",
   "mimetype": "text/x-python",
   "name": "python",
   "nbconvert_exporter": "python",
   "pygments_lexer": "ipython3",
   "version": "3.5.2"
  }
 },
 "nbformat": 4,
 "nbformat_minor": 2
}
