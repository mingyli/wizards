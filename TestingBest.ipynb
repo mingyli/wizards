{
 "cells": [
  {
   "cell_type": "code",
   "execution_count": 1,
   "metadata": {
    "collapsed": true
   },
   "outputs": [],
   "source": [
    "from random import *\n",
    "from itertools import combinations\n",
    "\n",
    "\n",
    "def minConflicts(constraints, maxIter, numWizards):\n",
    "    currentState = [[False for x in range(numWizards)] for y in range(numWizards)] #matrix of current booleans\n",
    "    for r in range(numWizards):\n",
    "        for c in range(r):\n",
    "            currentState[r][c]=True #possibly might change this to linearized index\n",
    "    prevConflicts = 0\n",
    "    for i in range(maxIter):\n",
    "        conflicts = numberConflicting(currentState, constraints)\n",
    "        if conflicts == 0:\n",
    "            print(\"SATISFIED\", i)\n",
    "            return currentState, i\n",
    "        maxResolve = 0\n",
    "        maxRow = -1\n",
    "        maxCol = -1\n",
    "        if conflicts - prevConflicts == 0:\n",
    "#             print(conflicts)\n",
    "#             print(\"kick\")\n",
    "            currentState = kick(currentState)\n",
    "        else:\n",
    "            for r in range(numWizards):\n",
    "                for c in range(r):\n",
    "                    currentState[r][c]= not currentState[r][c]\n",
    "                    currentState[c][r]= not currentState[c][r]\n",
    "                    newConflicts = numberConflicting(currentState, constraints)\n",
    "                    if conflicts - newConflicts > maxResolve:\n",
    "                        maxResolve = conflicts - newConflicts\n",
    "                        maxRow = r\n",
    "                        maxCol = c\n",
    "                    currentState[r][c]= not currentState[r][c]\n",
    "                    currentState[c][r]= not currentState[c][r]\n",
    "            \n",
    "            currentState[maxRow][maxCol] = not currentState[maxRow][maxCol]\n",
    "            currentState[maxCol][maxRow] = not currentState[maxCol][maxRow]\n",
    "        prevConflicts = conflicts\n",
    "    print(\"GIVEN UP after\", maxIter, \"iterations\")\n",
    "    return currentState, maxIter\n",
    "\n",
    "def kick(currentState):\n",
    "    num_wizards = len(currentState)\n",
    "    for i in range(num_wizards//7):\n",
    "        r = int(random()*num_wizards)\n",
    "        c = int(random()*num_wizards)\n",
    "        currentState[r][c] = not currentState[r][c]\n",
    "        currentState[c][r] = not currentState[c][r]\n",
    "    return currentState\n",
    "\n",
    "def numberConflicting(currentState, constraints):\n",
    "    conflicts = 0\n",
    "    for c in constraints:\n",
    "        if isConflicting(currentState, c):\n",
    "            conflicts += 1\n",
    "    return conflicts\n",
    "        \n",
    "def isConflicting(currentState, c):\n",
    "    return not ((currentState[c[2]][c[0]] and currentState[c[2]][c[1]]) \n",
    "            or (currentState[c[0]][c[2]] and currentState[c[1]][c[2]]) )\n",
    "\n",
    "def prettyPrint(a):\n",
    "    for r in range (len(a)):\n",
    "            print(a[r])\n",
    "\n",
    "import matplotlib.pyplot as plt\n",
    "\n",
    "from random import shuffle, sample\n",
    "from itertools import combinations\n",
    "\n",
    "def make_ordering(n):\n",
    "    \"\"\"Generates a random ordering of n wizards, returned as a\n",
    "    shuffled list containing the elements 0, 1, ..., n-1\"\"\"\n",
    "    order = list(range(n))\n",
    "    shuffle(order)\n",
    "    return order\n",
    "\n",
    "def make_constraints(order, num_constraints=500):\n",
    "    \"\"\"Randomly generates constraints on the wizards' ordering,\n",
    "    where a constraint [a b c] means c is not between a and b.\"\"\"\n",
    "    combos = []\n",
    "    \n",
    "    for i in range(len(order)):\n",
    "        for j in range(i + 1, len(order)):\n",
    "            for k in range(0, i):\n",
    "                combos.append((order[i], order[j], order[k]))\n",
    "            for k in range(j + 1, len(order)):\n",
    "                combos.append((order[i], order[j], order[k]))\n",
    "    return sample(combos, num_constraints)"
   ]
  },
  {
   "cell_type": "code",
   "execution_count": null,
   "metadata": {},
   "outputs": [
    {
     "name": "stdout",
     "output_type": "stream",
     "text": [
      "failure-Andrew-20-0.txt\n",
      "----------------\n",
      "constraint count 200\n",
      "\n",
      "sample 0\n"
     ]
    }
   ],
   "source": [
    "import json\n",
    "\n",
    "numWizards = ['20','35','50']\n",
    "\n",
    "n_samples = 5\n",
    "\n",
    "MAX_ITER = 60000\n",
    "\n",
    "runs={}\n",
    "\n",
    "for j in range (3):\n",
    "    for i in range(3):\n",
    "        if i == 2:\n",
    "            i+=1\n",
    "        runs[j*10+i]=[]\n",
    "        wizards = numWizards[j]\n",
    "        version = str(i)\n",
    "        fileName = 'failure-Andrew-' + wizards +'-'+version+ '.txt'\n",
    "        print(fileName)\n",
    "        with open(fileName) as data_file:\n",
    "            data = json.load(data_file)\n",
    "        constraints=data[1]\n",
    "\n",
    "        print(\"----------------\")\n",
    "        print(\"constraint count\", len(constraints))\n",
    "\n",
    "        for k in range(n_samples):\n",
    "            print()\n",
    "            print(\"sample\", k)\n",
    "            state, iters = minConflicts(constraints, MAX_ITER, 20)\n",
    "            runs[j*10+i].append(( constraints, state, iters))\n",
    "\n",
    "        if j==2:\n",
    "            break\n",
    "        \n"
   ]
  },
  {
   "cell_type": "code",
   "execution_count": 41,
   "metadata": {},
   "outputs": [
    {
     "data": {
      "image/png": "[encoded data removed]",
      "text/plain": [
       "<matplotlib.figure.Figure at 0x1136536d8>"
      ]
     },
     "metadata": {},
     "output_type": "display_data"
    },
    {
     "name": "stdout",
     "output_type": "stream",
     "text": [
      "\n",
      "0 constraints\n"
     ]
    },
    {
     "ename": "ZeroDivisionError",
     "evalue": "division by zero",
     "output_type": "error",
     "traceback": [
      "\u001b[0;31m---------------------------------------------------------------------------\u001b[0m",
      "\u001b[0;31mZeroDivisionError\u001b[0m                         Traceback (most recent call last)",
      "\u001b[0;32m<ipython-input-41-201b582fd041>\u001b[0m in \u001b[0;36m<module>\u001b[0;34m()\u001b[0m\n\u001b[1;32m     16\u001b[0m     \u001b[0mprint\u001b[0m\u001b[0;34m(\u001b[0m\u001b[0mk\u001b[0m\u001b[0;34m,\u001b[0m \u001b[0;34m\"constraints\"\u001b[0m\u001b[0;34m)\u001b[0m\u001b[0;34m\u001b[0m\u001b[0m\n\u001b[1;32m     17\u001b[0m     \u001b[0miters_all\u001b[0m \u001b[0;34m=\u001b[0m \u001b[0;34m[\u001b[0m\u001b[0mresult\u001b[0m\u001b[0;34m[\u001b[0m\u001b[0;36m3\u001b[0m\u001b[0;34m]\u001b[0m \u001b[0;32mfor\u001b[0m \u001b[0mresult\u001b[0m \u001b[0;32min\u001b[0m \u001b[0mv\u001b[0m\u001b[0;34m]\u001b[0m\u001b[0;34m\u001b[0m\u001b[0m\n\u001b[0;32m---> 18\u001b[0;31m     \u001b[0mprint\u001b[0m\u001b[0;34m(\u001b[0m\u001b[0;34m\"mean\"\u001b[0m\u001b[0;34m,\u001b[0m \u001b[0msum\u001b[0m\u001b[0;34m(\u001b[0m\u001b[0miters_all\u001b[0m\u001b[0;34m)\u001b[0m\u001b[0;34m/\u001b[0m\u001b[0mlen\u001b[0m\u001b[0;34m(\u001b[0m\u001b[0miters_all\u001b[0m\u001b[0;34m)\u001b[0m\u001b[0;34m,\u001b[0m \u001b[0;34m\"med\"\u001b[0m\u001b[0;34m,\u001b[0m \u001b[0miters_all\u001b[0m\u001b[0;34m[\u001b[0m\u001b[0mlen\u001b[0m\u001b[0;34m(\u001b[0m\u001b[0miters_all\u001b[0m\u001b[0;34m)\u001b[0m\u001b[0;34m//\u001b[0m\u001b[0;36m2\u001b[0m\u001b[0;34m]\u001b[0m\u001b[0;34m,\u001b[0m \u001b[0;34m\"max\"\u001b[0m\u001b[0;34m,\u001b[0m \u001b[0mmax\u001b[0m\u001b[0;34m(\u001b[0m\u001b[0miters_all\u001b[0m\u001b[0;34m)\u001b[0m\u001b[0;34m)\u001b[0m\u001b[0;34m\u001b[0m\u001b[0m\n\u001b[0m\u001b[1;32m     19\u001b[0m \u001b[0;34m\u001b[0m\u001b[0m\n",
      "\u001b[0;31mZeroDivisionError\u001b[0m: division by zero"
     ]
    }
   ],
   "source": [
    "# PLOTTING\n",
    "xs, ys = [], []\n",
    "\n",
    "for k, v in runs.items():\n",
    "    for result in v:\n",
    "        xs.append(k)\n",
    "        ys.append(result[3])\n",
    "plt.title(\"Iterations required to solve\")\n",
    "plt.xlabel(\"Num of Constraints\")\n",
    "plt.ylabel(\"Iterations\")\n",
    "plt.scatter(xs, ys)\n",
    "plt.show()\n",
    "\n",
    "for k, v in runs.items():\n",
    "    print()\n",
    "    print(k, \"constraints\")\n",
    "    iters_all = [result[3] for result in v]\n",
    "    print(\"mean\", sum(iters_all)/len(iters_all), \"med\", iters_all[len(iters_all)//2], \"max\", max(iters_all))\n",
    "    "
   ]
  },
  {
   "cell_type": "code",
   "execution_count": null,
   "metadata": {
    "collapsed": true
   },
   "outputs": [],
   "source": []
  }
 ],
 "metadata": {
  "kernelspec": {
   "display_name": "Python 3",
   "language": "python",
   "name": "python3"
  },
  "language_info": {
   "codemirror_mode": {
    "name": "ipython",
    "version": 3
   },
   "file_extension": ".py",
   "mimetype": "text/x-python",
   "name": "python",
   "nbconvert_exporter": "python",
   "pygments_lexer": "ipython3",
   "version": "3.6.1"
  }
 },
 "nbformat": 4,
 "nbformat_minor": 2
}
