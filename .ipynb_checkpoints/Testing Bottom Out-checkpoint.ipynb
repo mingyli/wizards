{
 "cells": [
  {
   "cell_type": "code",
   "execution_count": 41,
   "metadata": {},
   "outputs": [],
   "source": [
    "from random import shuffle, sample\n",
    "from itertools import combinations\n",
    "\n",
    "def minConflicts(constraints, maxIter, numWizards, log, quit_on_convergence=True):\n",
    "    currentState = [[False for x in range(numWizards)] for y in range(numWizards)] #matrix of current booleans\n",
    "    for r in range(numWizards):\n",
    "        for c in range(r):\n",
    "            currentState[r][c]=True #possibly might change this to linearized index\n",
    "            \n",
    "    min_conflicts = len(constraints)\n",
    "    stuck_at_min = 0\n",
    "    \n",
    "    for i in range(maxIter):\n",
    "        conflicts = numberConflicting(currentState, constraints)\n",
    "        log.append(conflicts)\n",
    "        if i % 100 == 0:\n",
    "            print(\"conflicts\", conflicts, \"iters\", i)\n",
    "\n",
    "        # match\n",
    "        if conflicts == 0:\n",
    "            return currentState\n",
    "        \n",
    "        # convergence check\n",
    "        if conflicts < min_conflicts:\n",
    "            min_conflicts = conflicts\n",
    "            stuck_at_min = 0\n",
    "        else:\n",
    "            stuck_at_min += 1\n",
    "            if stuck_at_min == 20:\n",
    "                print(\"conflicts\", conflicts, \"iters\", i)\n",
    "                return currentState\n",
    "        \n",
    "        \n",
    "        maxResolve = 0\n",
    "        maxRow = -1\n",
    "        maxCol = -1\n",
    "        for r in range(numWizards):\n",
    "            for c in range(r):\n",
    "                currentState[r][c]= not currentState[r][c]\n",
    "                currentState[c][r]= not currentState[c][r]\n",
    "                newConflicts = numberConflicting(currentState, constraints)\n",
    "                if conflicts - newConflicts >= maxResolve:\n",
    "                    maxResolve = conflicts - newConflicts\n",
    "                    maxRow = r\n",
    "                    maxCol = c\n",
    "                currentState[r][c]= not currentState[r][c]\n",
    "                currentState[c][r]= not currentState[c][r]\n",
    "                \n",
    "        currentState[maxRow][maxCol] = not currentState[maxRow][maxCol]\n",
    "        currentState[maxCol][maxRow] = not currentState[maxCol][maxRow]\n",
    "            \n",
    "    return currentState\n",
    "        \n",
    "def numberConflicting(currentState, constraints):\n",
    "    conflicts = 0\n",
    "    for c in constraints:\n",
    "        if isConflicting(currentState, c):\n",
    "            conflicts += 1\n",
    "    return conflicts\n",
    "        \n",
    "def isConflicting(currentState, c):\n",
    "    return not ((currentState[c[2]][c[0]] and currentState[c[2]][c[1]]) \n",
    "            or (currentState[c[0]][c[2]] and currentState[c[1]][c[2]]) )\n",
    "\n",
    "def prettyPrint(a):\n",
    "    for r in range (len(a)):\n",
    "            print(a[r])\n",
    "\n",
    "import matplotlib.pyplot as plt\n",
    "\n",
    "from random import shuffle, sample\n",
    "from itertools import combinations\n",
    "\n",
    "def make_ordering(n):\n",
    "    \"\"\"Generates a random ordering of n wizards, returned as a\n",
    "    shuffled list containing the elements 0, 1, ..., n-1\"\"\"\n",
    "    order = list(range(n))\n",
    "    shuffle(order)\n",
    "    return order\n",
    "\n",
    "def make_constraints(order, num_constraints=500):\n",
    "    \"\"\"Randomly generates constraints on the wizards' ordering,\n",
    "    where a constraint [a b c] means c is not between a and b.\"\"\"\n",
    "    combos = []\n",
    "    \n",
    "    for i in range(len(order)):\n",
    "        for j in range(i + 1, len(order)):\n",
    "            for k in range(0, i):\n",
    "                combos.append((order[i], order[j], order[k]))\n",
    "            for k in range(j + 1, len(order)):\n",
    "                combos.append((order[i], order[j], order[k]))\n",
    "    return sample(combos, num_constraints)"
   ]
  },
  {
   "cell_type": "code",
   "execution_count": 42,
   "metadata": {},
   "outputs": [
    {
     "name": "stdout",
     "output_type": "stream",
     "text": [
      "[10, 6, 8, 0, 18, 17, 15, 16, 2, 3, 14, 9, 1, 19, 11, 5, 4, 12, 7, 13]\n",
      "185 0 \n",
      "\n",
      "81 77 \n",
      "\n"
     ]
    }
   ],
   "source": [
    "log = []\n",
    "\n",
    "n = 20\n",
    "order = make_ordering(n)\n",
    "print(order)\n",
    "constraints = make_constraints(order, 500)\n",
    "a = minConflicts(constraints, 1000, n, log)"
   ]
  },
  {
   "cell_type": "code",
   "execution_count": 43,
   "metadata": {},
   "outputs": [
    {
     "name": "stdout",
     "output_type": "stream",
     "text": [
      "constraint count: 100\n",
      "sample 0\n",
      "32 0 \n",
      "\n",
      "4 39 \n",
      "\n",
      "constraint count: 125\n",
      "sample 0\n",
      "39 0 \n",
      "\n",
      "10 41 \n",
      "\n",
      "constraint count: 150\n",
      "sample 0\n",
      "42 0 \n",
      "\n",
      "18 37 \n",
      "\n",
      "constraint count: 175\n",
      "sample 0\n",
      "66 0 \n",
      "\n",
      "18 51 \n",
      "\n",
      "constraint count: 200\n",
      "sample 0\n",
      "62 0 \n",
      "\n",
      "16 48 \n",
      "\n",
      "constraint count: 225\n",
      "sample 0\n",
      "68 0 \n",
      "\n",
      "28 44 \n",
      "\n",
      "constraint count: 250\n",
      "sample 0\n",
      "71 0 \n",
      "\n",
      "29 47 \n",
      "\n",
      "constraint count: 275\n",
      "sample 0\n",
      "77 0 \n",
      "\n",
      "48 40 \n",
      "\n",
      "constraint count: 300\n",
      "sample 0\n",
      "92 0 \n",
      "\n",
      "31 61 \n",
      "\n",
      "constraint count: 325\n",
      "sample 0\n",
      "119 0 \n",
      "\n",
      "64 52 \n",
      "\n",
      "constraint count: 350\n",
      "sample 0\n",
      "133 0 \n",
      "\n",
      "47 70 \n",
      "\n",
      "constraint count: 375\n",
      "sample 0\n",
      "127 0 \n",
      "\n",
      "68 48 \n",
      "\n",
      "constraint count: 400\n",
      "sample 0\n",
      "131 0 \n",
      "\n",
      "20 80 \n",
      "\n",
      "constraint count: 425\n",
      "sample 0\n",
      "147 0 \n",
      "\n",
      "48 77 \n",
      "\n",
      "constraint count: 450\n",
      "sample 0\n",
      "129 0 \n",
      "\n",
      "65 52 \n",
      "\n",
      "constraint count: 475\n",
      "sample 0\n",
      "153 0 \n",
      "\n",
      "84 58 \n",
      "\n",
      "constraint count: 500\n",
      "sample 0\n",
      "173 0 \n",
      "\n",
      "101 54 \n",
      "\n"
     ]
    }
   ],
   "source": [
    "data = {} # keys are constraints\n",
    "\n",
    "n_samples = 1\n",
    "\n",
    "for c_count in [100, 125, 150, 175, 200, 225, 250, 275, 300, 325, 350, 375, 400, 425, 450, 475, 500]:\n",
    "    data[c_count] = []\n",
    "    print(\"constraint count:\", c_count)\n",
    "    for i in range(n_samples):\n",
    "        print(\"sample\", i)\n",
    "        log = []\n",
    "        order = make_ordering(20)\n",
    "        constraints = make_constraints(order, c_count)\n",
    "        state = minConflicts(constraints, 1000, 20, log)\n",
    "        data[c_count].append((log, order, constraints, state))"
   ]
  },
  {
   "cell_type": "code",
   "execution_count": 37,
   "metadata": {},
   "outputs": [
    {
     "data": {
      "image/png": "[encoded data removed]",
      "text/plain": [
       "<matplotlib.figure.Figure at 0x7f74dd99eac8>"
      ]
     },
     "metadata": {},
     "output_type": "display_data"
    },
    {
     "name": "stdout",
     "output_type": "stream",
     "text": [
      "[177, 170, 164, 159, 154, 149, 145, 141, 137, 132, 128, 125, 122, 119, 116, 113, 110, 108, 105, 101, 98, 96, 94, 92, 90, 88, 85, 83, 81, 80, 79, 78, 77, 75, 73, 71, 70, 68, 66, 64, 61, 58, 55, 54, 51, 49, 47, 46, 43, 40, 37, 34, 31, 29, 26, 24, 22, 19, 16, 14, 11, 9, 8, 7, 6, 4, 3, 0]\n"
     ]
    }
   ],
   "source": [
    "# import numpy as np\n",
    "import matplotlib.pyplot as plt\n",
    "plt.plot([1,2,3])\n",
    "plt.plot([1,1,1])\n",
    "plt.show()\n",
    "print(log)"
   ]
  },
  {
   "cell_type": "code",
   "execution_count": 65,
   "metadata": {},
   "outputs": [
    {
     "name": "stdout",
     "output_type": "stream",
     "text": [
      "[False, False, False, True, False]\n",
      "[True, False, False, True, False]\n",
      "[True, True, False, True, False]\n",
      "[False, False, False, False, False]\n",
      "[True, True, True, True, False]\n"
     ]
    }
   ],
   "source": [
    "prettyPrint(a)"
   ]
  },
  {
   "cell_type": "code",
   "execution_count": 54,
   "metadata": {},
   "outputs": [
    {
     "name": "stdout",
     "output_type": "stream",
     "text": [
      "[(0, 1, 2), (3, 0, 2), (3, 4, 2), (3, 0, 4), (0, 4, 2), (3, 1, 4), (1, 4, 2), (0, 1, 4), (3, 0, 1), (3, 1, 2)]\n"
     ]
    }
   ],
   "source": [
    "print(constraints)"
   ]
  },
  {
   "cell_type": "code",
   "execution_count": null,
   "metadata": {
    "collapsed": true
   },
   "outputs": [],
   "source": []
  }
 ],
 "metadata": {
  "kernelspec": {
   "display_name": "Python 3",
   "language": "python",
   "name": "python3"
  },
  "language_info": {
   "codemirror_mode": {
    "name": "ipython",
    "version": 3
   },
   "file_extension": ".py",
   "mimetype": "text/x-python",
   "name": "python",
   "nbconvert_exporter": "python",
   "pygments_lexer": "ipython3",
   "version": "3.5.2"
  }
 },
 "nbformat": 4,
 "nbformat_minor": 2
}
