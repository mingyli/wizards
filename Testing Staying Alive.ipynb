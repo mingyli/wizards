{
 "cells": [
  {
   "cell_type": "code",
   "execution_count": 8,
   "metadata": {},
   "outputs": [],
   "source": [
    "from random import *\n",
    "from itertools import combinations\n",
    "\n",
    "\n",
    "def minConflicts(constraints, maxIter, numWizards):\n",
    "    currentState = [[False for x in range(numWizards)] for y in range(numWizards)] #matrix of current booleans\n",
    "    for r in range(numWizards):\n",
    "        for c in range(r):\n",
    "            currentState[r][c]=True #possibly might change this to linearized index\n",
    "    prevConflicts = 0\n",
    "    for i in range(maxIter):\n",
    "        conflicts = numberConflicting(currentState, constraints)\n",
    "        if conflicts == 0:\n",
    "            print(\"SATISFIED\", i)\n",
    "            return currentState, i\n",
    "        maxResolve = 0\n",
    "        maxRow = -1\n",
    "        maxCol = -1\n",
    "        if conflicts - prevConflicts == 0:\n",
    "#             print(conflicts)\n",
    "#             print(\"kick\")\n",
    "            currentState = kick(currentState)\n",
    "        else:\n",
    "            for r in range(numWizards):\n",
    "                for c in range(r):\n",
    "                    currentState[r][c]= not currentState[r][c]\n",
    "                    currentState[c][r]= not currentState[c][r]\n",
    "                    newConflicts = numberConflicting(currentState, constraints)\n",
    "                    if conflicts - newConflicts > maxResolve:\n",
    "                        maxResolve = conflicts - newConflicts\n",
    "                        maxRow = r\n",
    "                        maxCol = c\n",
    "                    currentState[r][c]= not currentState[r][c]\n",
    "                    currentState[c][r]= not currentState[c][r]\n",
    "            \n",
    "            currentState[maxRow][maxCol] = not currentState[maxRow][maxCol]\n",
    "            currentState[maxCol][maxRow] = not currentState[maxCol][maxRow]\n",
    "        prevConflicts = conflicts\n",
    "    print(\"GIVEN UP after\", maxIter, \"iterations\")\n",
    "    return currentState, maxIter\n",
    "\n",
    "def kick(currentState):\n",
    "    num_wizards = len(currentState)\n",
    "    for i in range(num_wizards//7):\n",
    "        r = int(random()*num_wizards)\n",
    "        c = int(random()*num_wizards)\n",
    "        currentState[r][c] = not currentState[r][c]\n",
    "        currentState[c][r] = not currentState[c][r]\n",
    "    return currentState\n",
    "\n",
    "def numberConflicting(currentState, constraints):\n",
    "    conflicts = 0\n",
    "    for c in constraints:\n",
    "        if isConflicting(currentState, c):\n",
    "            conflicts += 1\n",
    "    return conflicts\n",
    "        \n",
    "def isConflicting(currentState, c):\n",
    "    return not ((currentState[c[2]][c[0]] and currentState[c[2]][c[1]]) \n",
    "            or (currentState[c[0]][c[2]] and currentState[c[1]][c[2]]) )\n",
    "\n",
    "def prettyPrint(a):\n",
    "    for r in range (len(a)):\n",
    "            print(a[r])\n",
    "\n",
    "import matplotlib.pyplot as plt\n",
    "\n",
    "from random import shuffle, sample\n",
    "from itertools import combinations\n",
    "\n",
    "def make_ordering(n):\n",
    "    \"\"\"Generates a random ordering of n wizards, returned as a\n",
    "    shuffled list containing the elements 0, 1, ..., n-1\"\"\"\n",
    "    order = list(range(n))\n",
    "    shuffle(order)\n",
    "    return order\n",
    "\n",
    "def make_constraints(order, num_constraints=500):\n",
    "    \"\"\"Randomly generates constraints on the wizards' ordering,\n",
    "    where a constraint [a b c] means c is not between a and b.\"\"\"\n",
    "    combos = []\n",
    "    \n",
    "    for i in range(len(order)):\n",
    "        for j in range(i + 1, len(order)):\n",
    "            for k in range(0, i):\n",
    "                combos.append((order[i], order[j], order[k]))\n",
    "            for k in range(j + 1, len(order)):\n",
    "                combos.append((order[i], order[j], order[k]))\n",
    "    return sample(combos, num_constraints)"
   ]
  },
  {
   "cell_type": "code",
   "execution_count": 10,
   "metadata": {},
   "outputs": [
    {
     "name": "stdout",
     "output_type": "stream",
     "text": [
      "SATISFIED 105\n",
      "[[False, True, True, False, True, False, False, False, True, False], [False, False, False, False, False, False, False, False, False, False], [False, True, False, False, False, False, False, False, False, False], [True, True, True, False, True, False, True, True, True, True], [False, True, True, False, False, False, False, False, False, False], [True, True, True, True, True, False, True, True, True, True], [True, True, True, False, True, False, False, False, True, True], [True, True, True, False, True, False, True, False, True, True], [False, True, True, False, True, False, False, False, False, False], [True, True, True, False, True, False, False, False, True, False]] 105\n"
     ]
    }
   ],
   "source": [
    "n = 10\n",
    "order = make_ordering(n)\n",
    "constraints = make_constraints(order, 100)\n",
    "a, i = minConflicts(constraints, 10000, n)\n",
    "print(a, i)\n"
   ]
  },
  {
   "cell_type": "code",
   "execution_count": 18,
   "metadata": {},
   "outputs": [
    {
     "name": "stdout",
     "output_type": "stream",
     "text": [
      "----------------\n",
      "constraint count 100\n",
      "\n",
      "sample 0\n",
      "SATISFIED 1750\n",
      "\n",
      "sample 1\n",
      "SATISFIED 390\n",
      "\n",
      "sample 2\n",
      "SATISFIED 568\n",
      "\n",
      "sample 3\n",
      "SATISFIED 400\n",
      "\n",
      "sample 4\n",
      "SATISFIED 3209\n",
      "----------------\n",
      "constraint count 120\n",
      "\n",
      "sample 0\n",
      "SATISFIED 46\n",
      "\n",
      "sample 1\n",
      "SATISFIED 91\n",
      "\n",
      "sample 2\n",
      "SATISFIED 89\n",
      "\n",
      "sample 3\n",
      "SATISFIED 158\n",
      "\n",
      "sample 4\n",
      "GIVEN UP after 30000 iterations\n",
      "----------------\n",
      "constraint count 140\n",
      "\n",
      "sample 0\n",
      "SATISFIED 107\n",
      "\n",
      "sample 1\n",
      "SATISFIED 795\n",
      "\n",
      "sample 2\n",
      "SATISFIED 855\n",
      "\n",
      "sample 3\n",
      "SATISFIED 1219\n",
      "\n",
      "sample 4\n",
      "SATISFIED 240\n",
      "----------------\n",
      "constraint count 160\n",
      "\n",
      "sample 0\n"
     ]
    },
    {
     "ename": "KeyboardInterrupt",
     "evalue": "",
     "output_type": "error",
     "traceback": [
      "\u001b[0;31m---------------------------------------------------------------------------\u001b[0m",
      "\u001b[0;31mKeyboardInterrupt\u001b[0m                         Traceback (most recent call last)",
      "\u001b[0;32m<ipython-input-18-3c9704544381>\u001b[0m in \u001b[0;36m<module>\u001b[0;34m()\u001b[0m\n\u001b[1;32m     16\u001b[0m         \u001b[0morder\u001b[0m \u001b[0;34m=\u001b[0m \u001b[0mmake_ordering\u001b[0m\u001b[0;34m(\u001b[0m\u001b[0mn_wizards\u001b[0m\u001b[0;34m)\u001b[0m\u001b[0;34m\u001b[0m\u001b[0m\n\u001b[1;32m     17\u001b[0m         \u001b[0mconstraints\u001b[0m \u001b[0;34m=\u001b[0m \u001b[0mmake_constraints\u001b[0m\u001b[0;34m(\u001b[0m\u001b[0morder\u001b[0m\u001b[0;34m,\u001b[0m \u001b[0mc_count\u001b[0m\u001b[0;34m)\u001b[0m\u001b[0;34m\u001b[0m\u001b[0m\n\u001b[0;32m---> 18\u001b[0;31m         \u001b[0mstate\u001b[0m\u001b[0;34m,\u001b[0m \u001b[0miters\u001b[0m \u001b[0;34m=\u001b[0m \u001b[0mminConflicts\u001b[0m\u001b[0;34m(\u001b[0m\u001b[0mconstraints\u001b[0m\u001b[0;34m,\u001b[0m \u001b[0mMAX_ITER\u001b[0m\u001b[0;34m,\u001b[0m \u001b[0mn_wizards\u001b[0m\u001b[0;34m)\u001b[0m\u001b[0;34m\u001b[0m\u001b[0m\n\u001b[0m\u001b[1;32m     19\u001b[0m \u001b[0;34m\u001b[0m\u001b[0m\n\u001b[1;32m     20\u001b[0m         \u001b[0mdata\u001b[0m\u001b[0;34m[\u001b[0m\u001b[0mc_count\u001b[0m\u001b[0;34m]\u001b[0m\u001b[0;34m.\u001b[0m\u001b[0mappend\u001b[0m\u001b[0;34m(\u001b[0m\u001b[0;34m(\u001b[0m\u001b[0morder\u001b[0m\u001b[0;34m,\u001b[0m \u001b[0mconstraints\u001b[0m\u001b[0;34m,\u001b[0m \u001b[0mstate\u001b[0m\u001b[0;34m,\u001b[0m \u001b[0miters\u001b[0m\u001b[0;34m)\u001b[0m\u001b[0;34m)\u001b[0m\u001b[0;34m\u001b[0m\u001b[0m\n",
      "\u001b[0;32m<ipython-input-8-581a4fefe465>\u001b[0m in \u001b[0;36mminConflicts\u001b[0;34m(constraints, maxIter, numWizards)\u001b[0m\n\u001b[1;32m     26\u001b[0m                     \u001b[0mcurrentState\u001b[0m\u001b[0;34m[\u001b[0m\u001b[0mr\u001b[0m\u001b[0;34m]\u001b[0m\u001b[0;34m[\u001b[0m\u001b[0mc\u001b[0m\u001b[0;34m]\u001b[0m\u001b[0;34m=\u001b[0m \u001b[0;32mnot\u001b[0m \u001b[0mcurrentState\u001b[0m\u001b[0;34m[\u001b[0m\u001b[0mr\u001b[0m\u001b[0;34m]\u001b[0m\u001b[0;34m[\u001b[0m\u001b[0mc\u001b[0m\u001b[0;34m]\u001b[0m\u001b[0;34m\u001b[0m\u001b[0m\n\u001b[1;32m     27\u001b[0m                     \u001b[0mcurrentState\u001b[0m\u001b[0;34m[\u001b[0m\u001b[0mc\u001b[0m\u001b[0;34m]\u001b[0m\u001b[0;34m[\u001b[0m\u001b[0mr\u001b[0m\u001b[0;34m]\u001b[0m\u001b[0;34m=\u001b[0m \u001b[0;32mnot\u001b[0m \u001b[0mcurrentState\u001b[0m\u001b[0;34m[\u001b[0m\u001b[0mc\u001b[0m\u001b[0;34m]\u001b[0m\u001b[0;34m[\u001b[0m\u001b[0mr\u001b[0m\u001b[0;34m]\u001b[0m\u001b[0;34m\u001b[0m\u001b[0m\n\u001b[0;32m---> 28\u001b[0;31m                     \u001b[0mnewConflicts\u001b[0m \u001b[0;34m=\u001b[0m \u001b[0mnumberConflicting\u001b[0m\u001b[0;34m(\u001b[0m\u001b[0mcurrentState\u001b[0m\u001b[0;34m,\u001b[0m \u001b[0mconstraints\u001b[0m\u001b[0;34m)\u001b[0m\u001b[0;34m\u001b[0m\u001b[0m\n\u001b[0m\u001b[1;32m     29\u001b[0m                     \u001b[0;32mif\u001b[0m \u001b[0mconflicts\u001b[0m \u001b[0;34m-\u001b[0m \u001b[0mnewConflicts\u001b[0m \u001b[0;34m>\u001b[0m \u001b[0mmaxResolve\u001b[0m\u001b[0;34m:\u001b[0m\u001b[0;34m\u001b[0m\u001b[0m\n\u001b[1;32m     30\u001b[0m                         \u001b[0mmaxResolve\u001b[0m \u001b[0;34m=\u001b[0m \u001b[0mconflicts\u001b[0m \u001b[0;34m-\u001b[0m \u001b[0mnewConflicts\u001b[0m\u001b[0;34m\u001b[0m\u001b[0m\n",
      "\u001b[0;32m<ipython-input-8-581a4fefe465>\u001b[0m in \u001b[0;36mnumberConflicting\u001b[0;34m(currentState, constraints)\u001b[0m\n\u001b[1;32m     52\u001b[0m     \u001b[0mconflicts\u001b[0m \u001b[0;34m=\u001b[0m \u001b[0;36m0\u001b[0m\u001b[0;34m\u001b[0m\u001b[0m\n\u001b[1;32m     53\u001b[0m     \u001b[0;32mfor\u001b[0m \u001b[0mc\u001b[0m \u001b[0;32min\u001b[0m \u001b[0mconstraints\u001b[0m\u001b[0;34m:\u001b[0m\u001b[0;34m\u001b[0m\u001b[0m\n\u001b[0;32m---> 54\u001b[0;31m         \u001b[0;32mif\u001b[0m \u001b[0misConflicting\u001b[0m\u001b[0;34m(\u001b[0m\u001b[0mcurrentState\u001b[0m\u001b[0;34m,\u001b[0m \u001b[0mc\u001b[0m\u001b[0;34m)\u001b[0m\u001b[0;34m:\u001b[0m\u001b[0;34m\u001b[0m\u001b[0m\n\u001b[0m\u001b[1;32m     55\u001b[0m             \u001b[0mconflicts\u001b[0m \u001b[0;34m+=\u001b[0m \u001b[0;36m1\u001b[0m\u001b[0;34m\u001b[0m\u001b[0m\n\u001b[1;32m     56\u001b[0m     \u001b[0;32mreturn\u001b[0m \u001b[0mconflicts\u001b[0m\u001b[0;34m\u001b[0m\u001b[0m\n",
      "\u001b[0;31mKeyboardInterrupt\u001b[0m: "
     ]
    }
   ],
   "source": [
    "# ************ CHANGE THIS **************** #\n",
    "n_wizards = 20\n",
    "#############################################\n",
    "\n",
    "\n",
    "data = {}\n",
    "\n",
    "MAX_ITER = 30000\n",
    "\n",
    "n_samples = 20\n",
    "\n",
    "c_counts = [20 * c for c in list(range(5,26))] # 100 to 500, intervals of 20\n",
    "\n",
    "for c_count in c_counts:\n",
    "    data[c_count] = []\n",
    "    print(\"----------------\")\n",
    "    print(\"constraint count\", c_count)\n",
    "    for i in range(n_samples):\n",
    "        print()\n",
    "        print(\"sample\", i)\n",
    "        order = make_ordering(n_wizards)\n",
    "        constraints = make_constraints(order, c_count)\n",
    "        state, iters = minConflicts(constraints, MAX_ITER, n_wizards)\n",
    "        \n",
    "        data[c_count].append((order, constraints, state, iters))\n",
    "        \n",
    "        "
   ]
  },
  {
   "cell_type": "code",
   "execution_count": 24,
   "metadata": {},
   "outputs": [
    {
     "data": {
      "image/png": "[encoded data removed]",
      "text/plain": [
       "<matplotlib.figure.Figure at 0x7fca966a22e8>"
      ]
     },
     "metadata": {},
     "output_type": "display_data"
    },
    {
     "name": "stdout",
     "output_type": "stream",
     "text": [
      "\n",
      "120 constraints\n",
      "mean 6076.8 med 89 max 30000\n",
      "\n",
      "140 constraints\n",
      "mean 643.2 med 855 max 1219\n",
      "\n",
      "160 constraints\n"
     ]
    },
    {
     "ename": "ZeroDivisionError",
     "evalue": "division by zero",
     "output_type": "error",
     "traceback": [
      "\u001b[0;31m---------------------------------------------------------------------------\u001b[0m",
      "\u001b[0;31mZeroDivisionError\u001b[0m                         Traceback (most recent call last)",
      "\u001b[0;32m<ipython-input-24-7652d2864a5f>\u001b[0m in \u001b[0;36m<module>\u001b[0;34m()\u001b[0m\n\u001b[1;32m     16\u001b[0m     \u001b[0mprint\u001b[0m\u001b[0;34m(\u001b[0m\u001b[0mk\u001b[0m\u001b[0;34m,\u001b[0m \u001b[0;34m\"constraints\"\u001b[0m\u001b[0;34m)\u001b[0m\u001b[0;34m\u001b[0m\u001b[0m\n\u001b[1;32m     17\u001b[0m     \u001b[0miters_all\u001b[0m \u001b[0;34m=\u001b[0m \u001b[0;34m[\u001b[0m\u001b[0mresult\u001b[0m\u001b[0;34m[\u001b[0m\u001b[0;36m3\u001b[0m\u001b[0;34m]\u001b[0m \u001b[0;32mfor\u001b[0m \u001b[0mresult\u001b[0m \u001b[0;32min\u001b[0m \u001b[0mv\u001b[0m\u001b[0;34m]\u001b[0m\u001b[0;34m\u001b[0m\u001b[0m\n\u001b[0;32m---> 18\u001b[0;31m     \u001b[0mprint\u001b[0m\u001b[0;34m(\u001b[0m\u001b[0;34m\"mean\"\u001b[0m\u001b[0;34m,\u001b[0m \u001b[0msum\u001b[0m\u001b[0;34m(\u001b[0m\u001b[0miters_all\u001b[0m\u001b[0;34m)\u001b[0m\u001b[0;34m/\u001b[0m\u001b[0mlen\u001b[0m\u001b[0;34m(\u001b[0m\u001b[0miters_all\u001b[0m\u001b[0;34m)\u001b[0m\u001b[0;34m,\u001b[0m \u001b[0;34m\"med\"\u001b[0m\u001b[0;34m,\u001b[0m \u001b[0miters_all\u001b[0m\u001b[0;34m[\u001b[0m\u001b[0mlen\u001b[0m\u001b[0;34m(\u001b[0m\u001b[0miters_all\u001b[0m\u001b[0;34m)\u001b[0m\u001b[0;34m//\u001b[0m\u001b[0;36m2\u001b[0m\u001b[0;34m]\u001b[0m\u001b[0;34m,\u001b[0m \u001b[0;34m\"max\"\u001b[0m\u001b[0;34m,\u001b[0m \u001b[0mmax\u001b[0m\u001b[0;34m(\u001b[0m\u001b[0miters_all\u001b[0m\u001b[0;34m)\u001b[0m\u001b[0;34m)\u001b[0m\u001b[0;34m\u001b[0m\u001b[0m\n\u001b[0m\u001b[1;32m     19\u001b[0m \u001b[0;34m\u001b[0m\u001b[0m\n",
      "\u001b[0;31mZeroDivisionError\u001b[0m: division by zero"
     ]
    }
   ],
   "source": [
    "# PLOTTING\n",
    "xs, ys = [], []\n",
    "\n",
    "for k, v in data.items():\n",
    "    for result in v:\n",
    "        xs.append(k)\n",
    "        ys.append(result[3])\n",
    "plt.title(\"Iterations required to solve\")\n",
    "plt.xlabel(\"Num of Constraints\")\n",
    "plt.ylabel(\"Iterations\")\n",
    "plt.scatter(xs, ys)\n",
    "plt.show()\n",
    "\n",
    "for k, v in data.items():\n",
    "    print()\n",
    "    print(k, \"constraints\")\n",
    "    iters_all = [result[3] for result in v]\n",
    "    print(\"mean\", sum(iters_all)/len(iters_all), \"med\", iters_all[len(iters_all)//2], \"max\", max(iters_all))\n",
    "    \n"
   ]
  },
  {
   "cell_type": "code",
   "execution_count": null,
   "metadata": {},
   "outputs": [],
   "source": []
  },
  {
   "cell_type": "code",
   "execution_count": null,
   "metadata": {},
   "outputs": [],
   "source": []
  },
  {
   "cell_type": "code",
   "execution_count": null,
   "metadata": {
    "collapsed": true
   },
   "outputs": [],
   "source": []
  }
 ],
 "metadata": {
  "kernelspec": {
   "display_name": "Python 3",
   "language": "python",
   "name": "python3"
  },
  "language_info": {
   "codemirror_mode": {
    "name": "ipython",
    "version": 3
   },
   "file_extension": ".py",
   "mimetype": "text/x-python",
   "name": "python",
   "nbconvert_exporter": "python",
   "pygments_lexer": "ipython3",
   "version": "3.5.2"
  }
 },
 "nbformat": 4,
 "nbformat_minor": 2
}
