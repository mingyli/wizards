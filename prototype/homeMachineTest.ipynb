{
 "cells": [
  {
   "cell_type": "code",
   "execution_count": null,
   "metadata": {
    "collapsed": true
   },
   "outputs": [],
   "source": [
    "from random import *\n",
    "from itertools import combinations\n",
    "\n",
    "\n",
    "def minConflicts(constraints, maxIter, numWizards):\n",
    "    currentState = [[False for x in range(numWizards)] for y in range(numWizards)] #matrix of current booleans\n",
    "    for r in range(numWizards):\n",
    "        for c in range(r):\n",
    "            currentState[r][c]=True #possibly might change this to linearized index\n",
    "    prevConflicts = 0\n",
    "    for i in range(maxIter):\n",
    "        conflicts = numberConflicting(currentState, constraints)\n",
    "        if conflicts == 0:\n",
    "            print(\"SATISFIED\", i)\n",
    "            return currentState, i\n",
    "        maxResolve = 0\n",
    "        maxRow = -1\n",
    "        maxCol = -1\n",
    "        if conflicts - prevConflicts == 0:\n",
    "#             print(conflicts)\n",
    "#             print(\"kick\")\n",
    "            currentState = kick(currentState)\n",
    "        else:\n",
    "            for r in range(numWizards):\n",
    "                for c in range(r):\n",
    "                    currentState[r][c]= not currentState[r][c]\n",
    "                    currentState[c][r]= not currentState[c][r]\n",
    "                    newConflicts = numberConflicting(currentState, constraints)\n",
    "                    if conflicts - newConflicts > maxResolve:\n",
    "                        maxResolve = conflicts - newConflicts\n",
    "                        maxRow = r\n",
    "                        maxCol = c\n",
    "                    currentState[r][c]= not currentState[r][c]\n",
    "                    currentState[c][r]= not currentState[c][r]\n",
    "            \n",
    "            currentState[maxRow][maxCol] = not currentState[maxRow][maxCol]\n",
    "            currentState[maxCol][maxRow] = not currentState[maxCol][maxRow]\n",
    "        prevConflicts = conflicts\n",
    "    print(\"GIVEN UP after\", maxIter, \"iterations\")\n",
    "    return currentState, maxIter\n",
    "\n",
    "def kick(currentState):\n",
    "    num_wizards = len(currentState)\n",
    "    for i in range(num_wizards//7):\n",
    "        r = int(random()*num_wizards)\n",
    "        c = int(random()*num_wizards)\n",
    "        currentState[r][c] = not currentState[r][c]\n",
    "        currentState[c][r] = not currentState[c][r]\n",
    "    return currentState\n",
    "\n",
    "def numberConflicting(currentState, constraints):\n",
    "    conflicts = 0\n",
    "    for c in constraints:\n",
    "        if isConflicting(currentState, c):\n",
    "            conflicts += 1\n",
    "    return conflicts\n",
    "        \n",
    "def isConflicting(currentState, c):\n",
    "    return not ((currentState[c[2]][c[0]] and currentState[c[2]][c[1]]) \n",
    "            or (currentState[c[0]][c[2]] and currentState[c[1]][c[2]]) )\n",
    "\n",
    "def prettyPrint(a):\n",
    "    for r in range (len(a)):\n",
    "            print(a[r])\n",
    "\n",
    "import matplotlib.pyplot as plt\n",
    "\n",
    "from random import shuffle, sample\n",
    "from itertools import combinations\n",
    "\n",
    "def make_ordering(n):\n",
    "    \"\"\"Generates a random ordering of n wizards, returned as a\n",
    "    shuffled list containing the elements 0, 1, ..., n-1\"\"\"\n",
    "    order = list(range(n))\n",
    "    shuffle(order)\n",
    "    return order\n",
    "\n",
    "def make_constraints(order, num_constraints=500):\n",
    "    \"\"\"Randomly generates constraints on the wizards' ordering,\n",
    "    where a constraint [a b c] means c is not between a and b.\"\"\"\n",
    "    combos = []\n",
    "    \n",
    "    for i in range(len(order)):\n",
    "        for j in range(i + 1, len(order)):\n",
    "            for k in range(0, i):\n",
    "                combos.append((order[i], order[j], order[k]))\n",
    "            for k in range(j + 1, len(order)):\n",
    "                combos.append((order[i], order[j], order[k]))\n",
    "    return sample(combos, num_constraints)"
   ]
  },
  {
   "cell_type": "code",
   "execution_count": 4,
   "metadata": {},
   "outputs": [
    {
     "name": "stdout",
     "output_type": "stream",
     "text": [
      "SATISFIED 136\n",
      "hello\n"
     ]
    }
   ],
   "source": [
    "n = 10\n",
    "order = make_ordering(n)\n",
    "constraints = make_constraints(order, 100)\n",
    "a, i = minConflicts(constraints, 10000, n)\n",
    "print(\"hello\")\n"
   ]
  },
  {
   "cell_type": "code",
   "execution_count": 7,
   "metadata": {},
   "outputs": [
    {
     "name": "stdout",
     "output_type": "stream",
     "text": [
      "----------------\n",
      "constraint count 120\n",
      "\n",
      "sample 0\n",
      "SATISFIED 164\n",
      "\n",
      "sample 1\n"
     ]
    },
    {
     "ename": "KeyboardInterrupt",
     "evalue": "",
     "output_type": "error",
     "traceback": [
      "\u001b[0;31m---------------------------------------------------------------------------\u001b[0m",
      "\u001b[0;31mKeyboardInterrupt\u001b[0m                         Traceback (most recent call last)",
      "\u001b[0;32m<ipython-input-7-5c2094273d6a>\u001b[0m in \u001b[0;36m<module>\u001b[0;34m()\u001b[0m\n\u001b[1;32m     21\u001b[0m         \u001b[0morder\u001b[0m \u001b[0;34m=\u001b[0m \u001b[0mmake_ordering\u001b[0m\u001b[0;34m(\u001b[0m\u001b[0mn_wizards\u001b[0m\u001b[0;34m)\u001b[0m\u001b[0;34m\u001b[0m\u001b[0m\n\u001b[1;32m     22\u001b[0m         \u001b[0mconstraints\u001b[0m \u001b[0;34m=\u001b[0m \u001b[0mmake_constraints\u001b[0m\u001b[0;34m(\u001b[0m\u001b[0morder\u001b[0m\u001b[0;34m,\u001b[0m \u001b[0mc_count\u001b[0m\u001b[0;34m)\u001b[0m\u001b[0;34m\u001b[0m\u001b[0m\n\u001b[0;32m---> 23\u001b[0;31m         \u001b[0mstate\u001b[0m\u001b[0;34m,\u001b[0m \u001b[0miters\u001b[0m \u001b[0;34m=\u001b[0m \u001b[0mminConflicts\u001b[0m\u001b[0;34m(\u001b[0m\u001b[0mconstraints\u001b[0m\u001b[0;34m,\u001b[0m \u001b[0mMAX_ITER\u001b[0m\u001b[0;34m,\u001b[0m \u001b[0mn_wizards\u001b[0m\u001b[0;34m)\u001b[0m\u001b[0;34m\u001b[0m\u001b[0m\n\u001b[0m\u001b[1;32m     24\u001b[0m \u001b[0;34m\u001b[0m\u001b[0m\n\u001b[1;32m     25\u001b[0m         \u001b[0mdata\u001b[0m\u001b[0;34m[\u001b[0m\u001b[0mc_count\u001b[0m\u001b[0;34m]\u001b[0m\u001b[0;34m.\u001b[0m\u001b[0mappend\u001b[0m\u001b[0;34m(\u001b[0m\u001b[0;34m(\u001b[0m\u001b[0morder\u001b[0m\u001b[0;34m,\u001b[0m \u001b[0mconstraints\u001b[0m\u001b[0;34m,\u001b[0m \u001b[0mstate\u001b[0m\u001b[0;34m,\u001b[0m \u001b[0miters\u001b[0m\u001b[0;34m)\u001b[0m\u001b[0;34m)\u001b[0m\u001b[0;34m\u001b[0m\u001b[0m\n",
      "\u001b[0;32m<ipython-input-1-a60bba3625dd>\u001b[0m in \u001b[0;36mminConflicts\u001b[0;34m(constraints, maxIter, numWizards)\u001b[0m\n\u001b[1;32m     26\u001b[0m                     \u001b[0mcurrentState\u001b[0m\u001b[0;34m[\u001b[0m\u001b[0mr\u001b[0m\u001b[0;34m]\u001b[0m\u001b[0;34m[\u001b[0m\u001b[0mc\u001b[0m\u001b[0;34m]\u001b[0m\u001b[0;34m=\u001b[0m \u001b[0;32mnot\u001b[0m \u001b[0mcurrentState\u001b[0m\u001b[0;34m[\u001b[0m\u001b[0mr\u001b[0m\u001b[0;34m]\u001b[0m\u001b[0;34m[\u001b[0m\u001b[0mc\u001b[0m\u001b[0;34m]\u001b[0m\u001b[0;34m\u001b[0m\u001b[0m\n\u001b[1;32m     27\u001b[0m                     \u001b[0mcurrentState\u001b[0m\u001b[0;34m[\u001b[0m\u001b[0mc\u001b[0m\u001b[0;34m]\u001b[0m\u001b[0;34m[\u001b[0m\u001b[0mr\u001b[0m\u001b[0;34m]\u001b[0m\u001b[0;34m=\u001b[0m \u001b[0;32mnot\u001b[0m \u001b[0mcurrentState\u001b[0m\u001b[0;34m[\u001b[0m\u001b[0mc\u001b[0m\u001b[0;34m]\u001b[0m\u001b[0;34m[\u001b[0m\u001b[0mr\u001b[0m\u001b[0;34m]\u001b[0m\u001b[0;34m\u001b[0m\u001b[0m\n\u001b[0;32m---> 28\u001b[0;31m                     \u001b[0mnewConflicts\u001b[0m \u001b[0;34m=\u001b[0m \u001b[0mnumberConflicting\u001b[0m\u001b[0;34m(\u001b[0m\u001b[0mcurrentState\u001b[0m\u001b[0;34m,\u001b[0m \u001b[0mconstraints\u001b[0m\u001b[0;34m)\u001b[0m\u001b[0;34m\u001b[0m\u001b[0m\n\u001b[0m\u001b[1;32m     29\u001b[0m                     \u001b[0;32mif\u001b[0m \u001b[0mconflicts\u001b[0m \u001b[0;34m-\u001b[0m \u001b[0mnewConflicts\u001b[0m \u001b[0;34m>\u001b[0m \u001b[0mmaxResolve\u001b[0m\u001b[0;34m:\u001b[0m\u001b[0;34m\u001b[0m\u001b[0m\n\u001b[1;32m     30\u001b[0m                         \u001b[0mmaxResolve\u001b[0m \u001b[0;34m=\u001b[0m \u001b[0mconflicts\u001b[0m \u001b[0;34m-\u001b[0m \u001b[0mnewConflicts\u001b[0m\u001b[0;34m\u001b[0m\u001b[0m\n",
      "\u001b[0;32m<ipython-input-1-a60bba3625dd>\u001b[0m in \u001b[0;36mnumberConflicting\u001b[0;34m(currentState, constraints)\u001b[0m\n\u001b[1;32m     52\u001b[0m     \u001b[0mconflicts\u001b[0m \u001b[0;34m=\u001b[0m \u001b[0;36m0\u001b[0m\u001b[0;34m\u001b[0m\u001b[0m\n\u001b[1;32m     53\u001b[0m     \u001b[0;32mfor\u001b[0m \u001b[0mc\u001b[0m \u001b[0;32min\u001b[0m \u001b[0mconstraints\u001b[0m\u001b[0;34m:\u001b[0m\u001b[0;34m\u001b[0m\u001b[0m\n\u001b[0;32m---> 54\u001b[0;31m         \u001b[0;32mif\u001b[0m \u001b[0misConflicting\u001b[0m\u001b[0;34m(\u001b[0m\u001b[0mcurrentState\u001b[0m\u001b[0;34m,\u001b[0m \u001b[0mc\u001b[0m\u001b[0;34m)\u001b[0m\u001b[0;34m:\u001b[0m\u001b[0;34m\u001b[0m\u001b[0m\n\u001b[0m\u001b[1;32m     55\u001b[0m             \u001b[0mconflicts\u001b[0m \u001b[0;34m+=\u001b[0m \u001b[0;36m1\u001b[0m\u001b[0;34m\u001b[0m\u001b[0m\n\u001b[1;32m     56\u001b[0m     \u001b[0;32mreturn\u001b[0m \u001b[0mconflicts\u001b[0m\u001b[0;34m\u001b[0m\u001b[0m\n",
      "\u001b[0;31mKeyboardInterrupt\u001b[0m: "
     ]
    }
   ],
   "source": [
    "# ************ CHANGE THIS **************** #\n",
    "n_wizards = 35\n",
    "#############################################\n",
    "\n",
    "\n",
    "data = {}\n",
    "\n",
    "MAX_ITER = 50000\n",
    "\n",
    "n_samples = 20\n",
    "\n",
    "c_counts = [20 * c for c in list(range(6,8))] # 100 to 500, intervals of 20\n",
    "\n",
    "for c_count in c_counts:\n",
    "    data[c_count] = []\n",
    "    print(\"----------------\")\n",
    "    print(\"constraint count\", c_count)\n",
    "    for i in range(n_samples):\n",
    "        print()\n",
    "        print(\"sample\", i)\n",
    "        order = make_ordering(n_wizards)\n",
    "        constraints = make_constraints(order, c_count)\n",
    "        state, iters = minConflicts(constraints, MAX_ITER, n_wizards)\n",
    "        \n",
    "        data[c_count].append((order, constraints, state, iters))\n",
    "        \n",
    "        "
   ]
  },
  {
   "cell_type": "code",
   "execution_count": 15,
   "metadata": {},
   "outputs": [
    {
     "data": {
      "image/png": "[encoded data removed]",
      "text/plain": [
       "<matplotlib.figure.Figure at 0x10f93b470>"
      ]
     },
     "metadata": {},
     "output_type": "display_data"
    },
    {
     "name": "stdout",
     "output_type": "stream",
     "text": [
      "\n",
      "140 constraints\n",
      "mean 383.45 med 380 max 982\n",
      "\n",
      "160 constraints\n",
      "mean 1522.55 med 254 max 13975\n",
      "\n",
      "180 constraints\n",
      "mean 5226.25 med 607 max 35973\n",
      "\n",
      "200 constraints\n",
      "mean 6585.5 med 1873 max 50000\n",
      "\n",
      "220 constraints\n",
      "mean 5008.0 med 3040 max 15181\n"
     ]
    }
   ],
   "source": [
    "# PLOTTING\n",
    "xs, ys = [], []\n",
    "\n",
    "for k, v in data.items():\n",
    "    for result in v:\n",
    "        xs.append(k)\n",
    "        ys.append(result[3])\n",
    "plt.title(\"Iterations required to solve\")\n",
    "plt.xlabel(\"Num of Constraints\")\n",
    "plt.ylabel(\"Iterations\")\n",
    "plt.scatter(xs, ys)\n",
    "plt.show()\n",
    "\n",
    "for k, v in data.items():\n",
    "    print()\n",
    "    print(k, \"constraints\")\n",
    "    iters_all = [result[3] for result in v]\n",
    "    print(\"mean\", sum(iters_all)/len(iters_all), \"med\", iters_all[len(iters_all)//2], \"max\", max(iters_all))\n",
    "    \n"
   ]
  },
  {
   "cell_type": "code",
   "execution_count": null,
   "metadata": {
    "collapsed": true
   },
   "outputs": [],
   "source": []
  },
  {
   "cell_type": "code",
   "execution_count": null,
   "metadata": {
    "collapsed": true
   },
   "outputs": [],
   "source": []
  },
  {
   "cell_type": "code",
   "execution_count": null,
   "metadata": {
    "collapsed": true
   },
   "outputs": [],
   "source": []
  }
 ],
 "metadata": {
  "kernelspec": {
   "display_name": "Python 3",
   "language": "python",
   "name": "python3"
  },
  "language_info": {
   "codemirror_mode": {
    "name": "ipython",
    "version": 3
   },
   "file_extension": ".py",
   "mimetype": "text/x-python",
   "name": "python",
   "nbconvert_exporter": "python",
   "pygments_lexer": "ipython3",
   "version": "3.6.1"
  }
 },
 "nbformat": 4,
 "nbformat_minor": 2
}
